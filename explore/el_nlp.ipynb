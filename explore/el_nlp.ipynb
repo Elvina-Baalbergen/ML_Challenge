{
 "cells": [
  {
   "cell_type": "code",
   "execution_count": 1,
   "id": "c2cf8054-2474-424c-a960-b5b407a5138a",
   "metadata": {},
   "outputs": [],
   "source": [
    "import numpy as np\n",
    "import pandas as pd\n",
    "import json"
   ]
  },
  {
   "cell_type": "code",
   "execution_count": 3,
   "id": "28870021-cb43-4a9b-94d0-9b1e3de0bfcc",
   "metadata": {},
   "outputs": [
    {
     "name": "stdout",
     "output_type": "stream",
     "text": [
      "                                    paperId  \\\n",
      "0  0b341b6938308a6d5f47edf490f6e46eae3835fa   \n",
      "1  c682727ee058aadbe9dbf838dcb036322818f588   \n",
      "2  0f9b5b32229a7245e43754430c0c88f8e7f0d8af   \n",
      "\n",
      "                                               title   authorId  \\\n",
      "0  Detecting linguistic idiosyncratic interests i...    3188285   \n",
      "1  Bigrams and BiLSTMs Two Neural Networks for Se...    2782720   \n",
      "2  In Factuality: Efficient Integration of Releva...  144748442   \n",
      "\n",
      "          authorName                                           abstract  year  \\\n",
      "0  Masoud Rouhizadeh  Children with autism spectrum disorder often e...  2014   \n",
      "1       Yuri Bizzoni  We present and compare two alternative deep ne...  2018   \n",
      "2      Peter Vickers  Visual Question Answering (VQA) methods aim at...  2021   \n",
      "\n",
      "                venue  \n",
      "0         CLPsych@ACL  \n",
      "1  Fig-Lang@NAACL-HLT  \n",
      "2                 ACL  \n"
     ]
    }
   ],
   "source": [
    "df_train = pd.read_json(\"Data/train.json\")\n",
    "print(df_train.head(3))"
   ]
  },
  {
   "cell_type": "code",
   "execution_count": 4,
   "id": "999c8632-9abd-4693-8523-7bf80f898596",
   "metadata": {},
   "outputs": [
    {
     "name": "stdout",
     "output_type": "stream",
     "text": [
      "            authorName   0\n",
      "835          Chuhan Wu  13\n",
      "3926    Ryan Cotterell  13\n",
      "1889        Ivan Vulic  13\n",
      "3789     Ramit Sawhney  12\n",
      "3991        S. Malmasi  12\n",
      "...                ...  ..\n",
      "1535    Gonzalo Méndez   1\n",
      "3742    R. Rajalakshmi   1\n",
      "1534  Gonzalo Iglesias   1\n",
      "3744       R. SarathP.   1\n",
      "2755         M. Becker   1\n",
      "\n",
      "[5511 rows x 2 columns]\n"
     ]
    }
   ],
   "source": [
    "#grouping by authors\n",
    "a = df_train.groupby(['authorName']).size().reset_index().sort_values(0,ascending=False)\n",
    "print(a)"
   ]
  },
  {
   "cell_type": "code",
   "execution_count": 28,
   "id": "f87ebae1-e521-43b1-85b9-857d4e813036",
   "metadata": {},
   "outputs": [],
   "source": [
    "def process_row(row):\n",
    "    import re\n",
    "    from textblob import Word\n",
    "    from string import punctuation\n",
    "    from nltk.stem.snowball import SnowballStemmer\n",
    "    from gensim.parsing.preprocessing import STOPWORDS\n",
    "    \n",
    "    \n",
    "    #Mail address\n",
    "    row = re.sub('(\\S+@\\S+)(com|\\s+com)', ' ', row)\n",
    "    #Username\n",
    "    row = re.sub('(\\S+@\\S+)', ' ', row)\n",
    "    #punctuation & Lower case\n",
    "    punctuation = punctuation + '\\n' + '—“,”‘-’' #+ '0123456789'\n",
    "    row = ''.join(word.lower() for word in row if word not in punctuation)\n",
    "    #Stopwords & Lemma\n",
    "    stop = STOPWORDS\n",
    "    row = ' '.join(Word(word).lemmatize() for word in row.split() if word not in stop)\n",
    "    #Stemming\n",
    "    stemmer = SnowballStemmer(language='english')\n",
    "    row = ' '.join([stemmer.stem(word) for word in row.split() if len(word) > 2])\n",
    "    #Extra whitespace\n",
    "    row = re.sub('\\s{1,}', ' ', row)\n",
    "\n",
    "    return row\n",
    "\n",
    "df_train['abstract'] = df_train['abstract'].apply(process_row)"
   ]
  },
  {
   "cell_type": "code",
   "execution_count": 29,
   "id": "6f1a368f-3630-4841-9e01-98f793b6997d",
   "metadata": {},
   "outputs": [],
   "source": [
    "def process_row(row):\n",
    "    import re\n",
    "    from textblob import Word\n",
    "    from string import punctuation\n",
    "    from nltk.stem.snowball import SnowballStemmer\n",
    "    from gensim.parsing.preprocessing import STOPWORDS\n",
    "    \n",
    "    \n",
    "    #Mail address\n",
    "    row = re.sub('(\\S+@\\S+)(com|\\s+com)', ' ', row)\n",
    "    #Username\n",
    "    row = re.sub('(\\S+@\\S+)', ' ', row)\n",
    "    #punctuation & Lower case\n",
    "    punctuation = punctuation + '\\n' + '—“,”‘-’' #+ '0123456789'\n",
    "    row = ''.join(word.lower() for word in row if word not in punctuation)\n",
    "    #Stopwords & Lemma\n",
    "    stop = STOPWORDS\n",
    "    row = ' '.join(Word(word).lemmatize() for word in row.split() if word not in stop)\n",
    "    #Stemming\n",
    "    stemmer = SnowballStemmer(language='english')\n",
    "    row = ' '.join([stemmer.stem(word) for word in row.split() if len(word) > 2])\n",
    "    #Extra whitespace\n",
    "    row = re.sub('\\s{1,}', ' ', row)\n",
    "\n",
    "    return row\n",
    "\n",
    "df_train['title'] = df_train['title'].apply(process_row)"
   ]
  },
  {
   "cell_type": "code",
   "execution_count": 31,
   "id": "58794497-54ff-48b9-8872-d9dc1d0831a0",
   "metadata": {},
   "outputs": [],
   "source": [
    "df_train_chuhan = df_train[df_train['authorName']=='Chuhan Wu'] "
   ]
  },
  {
   "cell_type": "code",
   "execution_count": 32,
   "id": "e69e7586-565e-4912-874d-c5ddc52442bb",
   "metadata": {},
   "outputs": [
    {
     "data": {
      "text/html": [
       "<div>\n",
       "<style scoped>\n",
       "    .dataframe tbody tr th:only-of-type {\n",
       "        vertical-align: middle;\n",
       "    }\n",
       "\n",
       "    .dataframe tbody tr th {\n",
       "        vertical-align: top;\n",
       "    }\n",
       "\n",
       "    .dataframe thead th {\n",
       "        text-align: right;\n",
       "    }\n",
       "</style>\n",
       "<table border=\"1\" class=\"dataframe\">\n",
       "  <thead>\n",
       "    <tr style=\"text-align: right;\">\n",
       "      <th></th>\n",
       "      <th>paperId</th>\n",
       "      <th>title</th>\n",
       "      <th>authorId</th>\n",
       "      <th>authorName</th>\n",
       "      <th>abstract</th>\n",
       "      <th>year</th>\n",
       "      <th>venue</th>\n",
       "    </tr>\n",
       "  </thead>\n",
       "  <tbody>\n",
       "    <tr>\n",
       "      <th>655</th>\n",
       "      <td>6d872a93566ccf29dbd8223a6fe3e86518b5704e</td>\n",
       "      <td>bird stone unifi model learn recal rank news r...</td>\n",
       "      <td>2118839668</td>\n",
       "      <td>Chuhan Wu</td>\n",
       "      <td>recal rank critic step person news recommend e...</td>\n",
       "      <td>2021</td>\n",
       "      <td>FINDINGS</td>\n",
       "    </tr>\n",
       "    <tr>\n",
       "      <th>1934</th>\n",
       "      <td>fc77daef4c31a4a160b89288d7ff4c8b266ab52a</td>\n",
       "      <td>hierarch user item represent threetier attent ...</td>\n",
       "      <td>15161448</td>\n",
       "      <td>Chuhan Wu</td>\n",
       "      <td>util review learn user item represent use reco...</td>\n",
       "      <td>2019</td>\n",
       "      <td>NAACL</td>\n",
       "    </tr>\n",
       "    <tr>\n",
       "      <th>2815</th>\n",
       "      <td>cea63df33ba77f85913cd8b85b0185337c94d7e3</td>\n",
       "      <td>neural metaphor detect cnnlstm model</td>\n",
       "      <td>15161448</td>\n",
       "      <td>Chuhan Wu</td>\n",
       "      <td>metaphor figur languag wide daili life literat...</td>\n",
       "      <td>2018</td>\n",
       "      <td>Fig-Lang@NAACL-HLT</td>\n",
       "    </tr>\n",
       "    <tr>\n",
       "      <th>5175</th>\n",
       "      <td>903ac06f23fe5d11cd888da23ca327888446b9db</td>\n",
       "      <td>thungn semeval2018 task captur discrimin attri...</td>\n",
       "      <td>15161448</td>\n",
       "      <td>Chuhan Wu</td>\n",
       "      <td>exist semant model capabl identifi semant simi...</td>\n",
       "      <td>2018</td>\n",
       "      <td>*SEMEVAL</td>\n",
       "    </tr>\n",
       "    <tr>\n",
       "      <th>5311</th>\n",
       "      <td>066529517e46417825624f1416e200d15a6e3b64</td>\n",
       "      <td>teacher pretrain languag model distil multipl ...</td>\n",
       "      <td>2118839668</td>\n",
       "      <td>Chuhan Wu</td>\n",
       "      <td>pretrain languag model plms achiev great succe...</td>\n",
       "      <td>2021</td>\n",
       "      <td>FINDINGS</td>\n",
       "    </tr>\n",
       "    <tr>\n",
       "      <th>5576</th>\n",
       "      <td>2ca68bf0c68c9af3efabf6432e63fd9d1f3df31b</td>\n",
       "      <td>thungn semeval2018 task residu cnnlstm network...</td>\n",
       "      <td>15161448</td>\n",
       "      <td>Chuhan Wu</td>\n",
       "      <td>emoji wide social medium social network user p...</td>\n",
       "      <td>2018</td>\n",
       "      <td>*SEMEVAL</td>\n",
       "    </tr>\n",
       "    <tr>\n",
       "      <th>6271</th>\n",
       "      <td>508b55bed9187adabdd1db7c7bd0bca4b1c221bf</td>\n",
       "      <td>neural news recommend multihead selfattent</td>\n",
       "      <td>15161448</td>\n",
       "      <td>Chuhan Wu</td>\n",
       "      <td>news recommend help user interest news allevi ...</td>\n",
       "      <td>2019</td>\n",
       "      <td>EMNLP</td>\n",
       "    </tr>\n",
       "    <tr>\n",
       "      <th>8461</th>\n",
       "      <td>885b701960e880391a2a311ed885c92f79e024cc</td>\n",
       "      <td>noisytun littl nois help finetun pretrain lang...</td>\n",
       "      <td>15161448</td>\n",
       "      <td>Chuhan Wu</td>\n",
       "      <td>effect finetun pretrain languag model plms cri...</td>\n",
       "      <td>2022</td>\n",
       "      <td>ACL</td>\n",
       "    </tr>\n",
       "    <tr>\n",
       "      <th>8721</th>\n",
       "      <td>ef9dad82a86bea2f4ea5893d232000e90b2d3fb9</td>\n",
       "      <td>review meet graph enhanc user item represent r...</td>\n",
       "      <td>15161448</td>\n",
       "      <td>Chuhan Wu</td>\n",
       "      <td>user item represent learn critic recommend exi...</td>\n",
       "      <td>2019</td>\n",
       "      <td>EMNLP</td>\n",
       "    </tr>\n",
       "    <tr>\n",
       "      <th>9844</th>\n",
       "      <td>0bc14b4728667e765cb38943834d9959019a35ad</td>\n",
       "      <td>detect tweet mention drug advers drug reaction...</td>\n",
       "      <td>15161448</td>\n",
       "      <td>Chuhan Wu</td>\n",
       "      <td>paper describ share task social medium mine he...</td>\n",
       "      <td>2018</td>\n",
       "      <td>EMNLP 2018</td>\n",
       "    </tr>\n",
       "    <tr>\n",
       "      <th>9874</th>\n",
       "      <td>1c68c227249af06a26d95580f2f1a4f8538936bf</td>\n",
       "      <td>neural news recommend topicawar news represent</td>\n",
       "      <td>15161448</td>\n",
       "      <td>Chuhan Wu</td>\n",
       "      <td>news recommend help user interest news allevi ...</td>\n",
       "      <td>2019</td>\n",
       "      <td>ACL</td>\n",
       "    </tr>\n",
       "    <tr>\n",
       "      <th>10304</th>\n",
       "      <td>5ef1cea9e0cdf5b30db6e0ac3f948be6ae0c34fe</td>\n",
       "      <td>ptum pretrain user model unlabel user behavior...</td>\n",
       "      <td>15161448</td>\n",
       "      <td>Chuhan Wu</td>\n",
       "      <td>user model critic person web servic exist meth...</td>\n",
       "      <td>2020</td>\n",
       "      <td>FINDINGS</td>\n",
       "    </tr>\n",
       "    <tr>\n",
       "      <th>11771</th>\n",
       "      <td>2d361b27af285f866ae696539e3f63cbc53dea0f</td>\n",
       "      <td>neural news recommend heterogen user behavior</td>\n",
       "      <td>15161448</td>\n",
       "      <td>Chuhan Wu</td>\n",
       "      <td>news recommend import onlin news platform help...</td>\n",
       "      <td>2019</td>\n",
       "      <td>EMNLP</td>\n",
       "    </tr>\n",
       "  </tbody>\n",
       "</table>\n",
       "</div>"
      ],
      "text/plain": [
       "                                        paperId  \\\n",
       "655    6d872a93566ccf29dbd8223a6fe3e86518b5704e   \n",
       "1934   fc77daef4c31a4a160b89288d7ff4c8b266ab52a   \n",
       "2815   cea63df33ba77f85913cd8b85b0185337c94d7e3   \n",
       "5175   903ac06f23fe5d11cd888da23ca327888446b9db   \n",
       "5311   066529517e46417825624f1416e200d15a6e3b64   \n",
       "5576   2ca68bf0c68c9af3efabf6432e63fd9d1f3df31b   \n",
       "6271   508b55bed9187adabdd1db7c7bd0bca4b1c221bf   \n",
       "8461   885b701960e880391a2a311ed885c92f79e024cc   \n",
       "8721   ef9dad82a86bea2f4ea5893d232000e90b2d3fb9   \n",
       "9844   0bc14b4728667e765cb38943834d9959019a35ad   \n",
       "9874   1c68c227249af06a26d95580f2f1a4f8538936bf   \n",
       "10304  5ef1cea9e0cdf5b30db6e0ac3f948be6ae0c34fe   \n",
       "11771  2d361b27af285f866ae696539e3f63cbc53dea0f   \n",
       "\n",
       "                                                   title    authorId  \\\n",
       "655    bird stone unifi model learn recal rank news r...  2118839668   \n",
       "1934   hierarch user item represent threetier attent ...    15161448   \n",
       "2815                neural metaphor detect cnnlstm model    15161448   \n",
       "5175   thungn semeval2018 task captur discrimin attri...    15161448   \n",
       "5311   teacher pretrain languag model distil multipl ...  2118839668   \n",
       "5576   thungn semeval2018 task residu cnnlstm network...    15161448   \n",
       "6271          neural news recommend multihead selfattent    15161448   \n",
       "8461   noisytun littl nois help finetun pretrain lang...    15161448   \n",
       "8721   review meet graph enhanc user item represent r...    15161448   \n",
       "9844   detect tweet mention drug advers drug reaction...    15161448   \n",
       "9874      neural news recommend topicawar news represent    15161448   \n",
       "10304  ptum pretrain user model unlabel user behavior...    15161448   \n",
       "11771      neural news recommend heterogen user behavior    15161448   \n",
       "\n",
       "      authorName                                           abstract  year  \\\n",
       "655    Chuhan Wu  recal rank critic step person news recommend e...  2021   \n",
       "1934   Chuhan Wu  util review learn user item represent use reco...  2019   \n",
       "2815   Chuhan Wu  metaphor figur languag wide daili life literat...  2018   \n",
       "5175   Chuhan Wu  exist semant model capabl identifi semant simi...  2018   \n",
       "5311   Chuhan Wu  pretrain languag model plms achiev great succe...  2021   \n",
       "5576   Chuhan Wu  emoji wide social medium social network user p...  2018   \n",
       "6271   Chuhan Wu  news recommend help user interest news allevi ...  2019   \n",
       "8461   Chuhan Wu  effect finetun pretrain languag model plms cri...  2022   \n",
       "8721   Chuhan Wu  user item represent learn critic recommend exi...  2019   \n",
       "9844   Chuhan Wu  paper describ share task social medium mine he...  2018   \n",
       "9874   Chuhan Wu  news recommend help user interest news allevi ...  2019   \n",
       "10304  Chuhan Wu  user model critic person web servic exist meth...  2020   \n",
       "11771  Chuhan Wu  news recommend import onlin news platform help...  2019   \n",
       "\n",
       "                    venue  \n",
       "655              FINDINGS  \n",
       "1934                NAACL  \n",
       "2815   Fig-Lang@NAACL-HLT  \n",
       "5175             *SEMEVAL  \n",
       "5311             FINDINGS  \n",
       "5576             *SEMEVAL  \n",
       "6271                EMNLP  \n",
       "8461                  ACL  \n",
       "8721                EMNLP  \n",
       "9844           EMNLP 2018  \n",
       "9874                  ACL  \n",
       "10304            FINDINGS  \n",
       "11771               EMNLP  "
      ]
     },
     "execution_count": 32,
     "metadata": {},
     "output_type": "execute_result"
    }
   ],
   "source": [
    "df_train_chuhan"
   ]
  },
  {
   "cell_type": "code",
   "execution_count": null,
   "id": "f1651dc9-04b4-4b8e-a60b-3cea3805172f",
   "metadata": {},
   "outputs": [],
   "source": []
  },
  {
   "cell_type": "code",
   "execution_count": 33,
   "id": "b3adf33c-fb65-4772-89bb-4741b2024240",
   "metadata": {},
   "outputs": [
    {
     "data": {
      "text/html": [
       "<div>\n",
       "<style scoped>\n",
       "    .dataframe tbody tr th:only-of-type {\n",
       "        vertical-align: middle;\n",
       "    }\n",
       "\n",
       "    .dataframe tbody tr th {\n",
       "        vertical-align: top;\n",
       "    }\n",
       "\n",
       "    .dataframe thead th {\n",
       "        text-align: right;\n",
       "    }\n",
       "</style>\n",
       "<table border=\"1\" class=\"dataframe\">\n",
       "  <thead>\n",
       "    <tr style=\"text-align: right;\">\n",
       "      <th></th>\n",
       "      <th>title</th>\n",
       "      <th>abstract</th>\n",
       "    </tr>\n",
       "  </thead>\n",
       "  <tbody>\n",
       "    <tr>\n",
       "      <th>655</th>\n",
       "      <td>bird stone unifi model learn recal rank news r...</td>\n",
       "      <td>recal rank critic step person news recommend e...</td>\n",
       "    </tr>\n",
       "    <tr>\n",
       "      <th>1934</th>\n",
       "      <td>hierarch user item represent threetier attent ...</td>\n",
       "      <td>util review learn user item represent use reco...</td>\n",
       "    </tr>\n",
       "    <tr>\n",
       "      <th>2815</th>\n",
       "      <td>neural metaphor detect cnnlstm model</td>\n",
       "      <td>metaphor figur languag wide daili life literat...</td>\n",
       "    </tr>\n",
       "    <tr>\n",
       "      <th>5175</th>\n",
       "      <td>thungn semeval2018 task captur discrimin attri...</td>\n",
       "      <td>exist semant model capabl identifi semant simi...</td>\n",
       "    </tr>\n",
       "    <tr>\n",
       "      <th>5311</th>\n",
       "      <td>teacher pretrain languag model distil multipl ...</td>\n",
       "      <td>pretrain languag model plms achiev great succe...</td>\n",
       "    </tr>\n",
       "    <tr>\n",
       "      <th>5576</th>\n",
       "      <td>thungn semeval2018 task residu cnnlstm network...</td>\n",
       "      <td>emoji wide social medium social network user p...</td>\n",
       "    </tr>\n",
       "    <tr>\n",
       "      <th>6271</th>\n",
       "      <td>neural news recommend multihead selfattent</td>\n",
       "      <td>news recommend help user interest news allevi ...</td>\n",
       "    </tr>\n",
       "    <tr>\n",
       "      <th>8461</th>\n",
       "      <td>noisytun littl nois help finetun pretrain lang...</td>\n",
       "      <td>effect finetun pretrain languag model plms cri...</td>\n",
       "    </tr>\n",
       "    <tr>\n",
       "      <th>8721</th>\n",
       "      <td>review meet graph enhanc user item represent r...</td>\n",
       "      <td>user item represent learn critic recommend exi...</td>\n",
       "    </tr>\n",
       "    <tr>\n",
       "      <th>9844</th>\n",
       "      <td>detect tweet mention drug advers drug reaction...</td>\n",
       "      <td>paper describ share task social medium mine he...</td>\n",
       "    </tr>\n",
       "    <tr>\n",
       "      <th>9874</th>\n",
       "      <td>neural news recommend topicawar news represent</td>\n",
       "      <td>news recommend help user interest news allevi ...</td>\n",
       "    </tr>\n",
       "    <tr>\n",
       "      <th>10304</th>\n",
       "      <td>ptum pretrain user model unlabel user behavior...</td>\n",
       "      <td>user model critic person web servic exist meth...</td>\n",
       "    </tr>\n",
       "    <tr>\n",
       "      <th>11771</th>\n",
       "      <td>neural news recommend heterogen user behavior</td>\n",
       "      <td>news recommend import onlin news platform help...</td>\n",
       "    </tr>\n",
       "  </tbody>\n",
       "</table>\n",
       "</div>"
      ],
      "text/plain": [
       "                                                   title  \\\n",
       "655    bird stone unifi model learn recal rank news r...   \n",
       "1934   hierarch user item represent threetier attent ...   \n",
       "2815                neural metaphor detect cnnlstm model   \n",
       "5175   thungn semeval2018 task captur discrimin attri...   \n",
       "5311   teacher pretrain languag model distil multipl ...   \n",
       "5576   thungn semeval2018 task residu cnnlstm network...   \n",
       "6271          neural news recommend multihead selfattent   \n",
       "8461   noisytun littl nois help finetun pretrain lang...   \n",
       "8721   review meet graph enhanc user item represent r...   \n",
       "9844   detect tweet mention drug advers drug reaction...   \n",
       "9874      neural news recommend topicawar news represent   \n",
       "10304  ptum pretrain user model unlabel user behavior...   \n",
       "11771      neural news recommend heterogen user behavior   \n",
       "\n",
       "                                                abstract  \n",
       "655    recal rank critic step person news recommend e...  \n",
       "1934   util review learn user item represent use reco...  \n",
       "2815   metaphor figur languag wide daili life literat...  \n",
       "5175   exist semant model capabl identifi semant simi...  \n",
       "5311   pretrain languag model plms achiev great succe...  \n",
       "5576   emoji wide social medium social network user p...  \n",
       "6271   news recommend help user interest news allevi ...  \n",
       "8461   effect finetun pretrain languag model plms cri...  \n",
       "8721   user item represent learn critic recommend exi...  \n",
       "9844   paper describ share task social medium mine he...  \n",
       "9874   news recommend help user interest news allevi ...  \n",
       "10304  user model critic person web servic exist meth...  \n",
       "11771  news recommend import onlin news platform help...  "
      ]
     },
     "execution_count": 33,
     "metadata": {},
     "output_type": "execute_result"
    }
   ],
   "source": [
    "df_train_chuhan_NLP = df_train_chuhan[['title', 'abstract']]\n",
    "df_train_chuhan_NLP"
   ]
  },
  {
   "cell_type": "code",
   "execution_count": 34,
   "id": "5dba5f9b-72db-44e8-8bee-8568862a125e",
   "metadata": {},
   "outputs": [
    {
     "data": {
      "text/html": [
       "<div>\n",
       "<style scoped>\n",
       "    .dataframe tbody tr th:only-of-type {\n",
       "        vertical-align: middle;\n",
       "    }\n",
       "\n",
       "    .dataframe tbody tr th {\n",
       "        vertical-align: top;\n",
       "    }\n",
       "\n",
       "    .dataframe thead th {\n",
       "        text-align: right;\n",
       "    }\n",
       "</style>\n",
       "<table border=\"1\" class=\"dataframe\">\n",
       "  <thead>\n",
       "    <tr style=\"text-align: right;\">\n",
       "      <th></th>\n",
       "      <th>year</th>\n",
       "      <th>venue</th>\n",
       "    </tr>\n",
       "  </thead>\n",
       "  <tbody>\n",
       "    <tr>\n",
       "      <th>655</th>\n",
       "      <td>2021</td>\n",
       "      <td>FINDINGS</td>\n",
       "    </tr>\n",
       "    <tr>\n",
       "      <th>1934</th>\n",
       "      <td>2019</td>\n",
       "      <td>NAACL</td>\n",
       "    </tr>\n",
       "    <tr>\n",
       "      <th>2815</th>\n",
       "      <td>2018</td>\n",
       "      <td>Fig-Lang@NAACL-HLT</td>\n",
       "    </tr>\n",
       "    <tr>\n",
       "      <th>5175</th>\n",
       "      <td>2018</td>\n",
       "      <td>*SEMEVAL</td>\n",
       "    </tr>\n",
       "    <tr>\n",
       "      <th>5311</th>\n",
       "      <td>2021</td>\n",
       "      <td>FINDINGS</td>\n",
       "    </tr>\n",
       "    <tr>\n",
       "      <th>5576</th>\n",
       "      <td>2018</td>\n",
       "      <td>*SEMEVAL</td>\n",
       "    </tr>\n",
       "    <tr>\n",
       "      <th>6271</th>\n",
       "      <td>2019</td>\n",
       "      <td>EMNLP</td>\n",
       "    </tr>\n",
       "    <tr>\n",
       "      <th>8461</th>\n",
       "      <td>2022</td>\n",
       "      <td>ACL</td>\n",
       "    </tr>\n",
       "    <tr>\n",
       "      <th>8721</th>\n",
       "      <td>2019</td>\n",
       "      <td>EMNLP</td>\n",
       "    </tr>\n",
       "    <tr>\n",
       "      <th>9844</th>\n",
       "      <td>2018</td>\n",
       "      <td>EMNLP 2018</td>\n",
       "    </tr>\n",
       "    <tr>\n",
       "      <th>9874</th>\n",
       "      <td>2019</td>\n",
       "      <td>ACL</td>\n",
       "    </tr>\n",
       "    <tr>\n",
       "      <th>10304</th>\n",
       "      <td>2020</td>\n",
       "      <td>FINDINGS</td>\n",
       "    </tr>\n",
       "    <tr>\n",
       "      <th>11771</th>\n",
       "      <td>2019</td>\n",
       "      <td>EMNLP</td>\n",
       "    </tr>\n",
       "  </tbody>\n",
       "</table>\n",
       "</div>"
      ],
      "text/plain": [
       "       year               venue\n",
       "655    2021            FINDINGS\n",
       "1934   2019               NAACL\n",
       "2815   2018  Fig-Lang@NAACL-HLT\n",
       "5175   2018            *SEMEVAL\n",
       "5311   2021            FINDINGS\n",
       "5576   2018            *SEMEVAL\n",
       "6271   2019               EMNLP\n",
       "8461   2022                 ACL\n",
       "8721   2019               EMNLP\n",
       "9844   2018          EMNLP 2018\n",
       "9874   2019                 ACL\n",
       "10304  2020            FINDINGS\n",
       "11771  2019               EMNLP"
      ]
     },
     "execution_count": 34,
     "metadata": {},
     "output_type": "execute_result"
    }
   ],
   "source": [
    "df_train_chuhan_place = df_train_chuhan[['year', 'venue']]\n",
    "df_train_chuhan_place"
   ]
  },
  {
   "cell_type": "code",
   "execution_count": 35,
   "id": "98497d9e-8d37-4928-b79f-74c2e803047f",
   "metadata": {},
   "outputs": [
    {
     "data": {
      "text/plain": [
       "['recal rank critic step person news recommend exist news recommend system conduct person news recal rank separ differ model maintain multipl model lead high comput cost pose great challeng meet onlin latenc requir news recommend system order handl problem paper propos unirec unifi method recal rank news recommend method infer user embed rank histor news click behavior user user encod model deriv user embed recal obtain user embed rank attent queri select set basi user embed encod differ general user interest synthes user embed recal extens experi benchmark dataset demonstr method improv effici effect recal rank news recommend']"
      ]
     },
     "execution_count": 35,
     "metadata": {},
     "output_type": "execute_result"
    }
   ],
   "source": [
    "# selected the first abstract\n",
    "df_train_chuhan_NLP_abst1 = [df_train_chuhan_NLP.iloc[0,1]]\n",
    "df_train_chuhan_NLP_abst1"
   ]
  },
  {
   "cell_type": "code",
   "execution_count": 36,
   "id": "f96a324a-a3b0-49e8-bae0-255be99b8b8e",
   "metadata": {},
   "outputs": [],
   "source": [
    "\n",
    "from sklearn.feature_extraction.text import CountVectorizer"
   ]
  },
  {
   "cell_type": "code",
   "execution_count": 37,
   "id": "4391fee5-96a0-4d33-9d4b-06f91ee2c005",
   "metadata": {},
   "outputs": [],
   "source": [
    "vectorizer = CountVectorizer(input='content')\n",
    "\n",
    "# our sample set is df_train_chuhan_NLP_abst1\n",
    "# fit the bag-of-words model\n",
    "\n",
    "bag = vectorizer.fit_transform(df_train_chuhan_NLP_abst1)"
   ]
  },
  {
   "cell_type": "code",
   "execution_count": 38,
   "id": "c287f3d5-bd1a-47bc-9335-89195566930f",
   "metadata": {},
   "outputs": [
    {
     "name": "stdout",
     "output_type": "stream",
     "text": [
      "['attent', 'basi', 'behavior', 'benchmark', 'challeng', 'click', 'comput', 'conduct', 'cost', 'critic', 'dataset', 'demonstr', 'deriv', 'differ', 'effect', 'effici', 'embed', 'encod', 'exist', 'experi', 'extens', 'general', 'great', 'handl', 'high', 'histor', 'improv', 'infer', 'interest', 'latenc', 'lead', 'maintain', 'meet', 'method', 'model', 'multipl', 'news', 'obtain', 'onlin', 'order', 'paper', 'person', 'pose', 'problem', 'propos', 'queri', 'rank', 'recal', 'recommend', 'requir', 'select', 'separ', 'set', 'step', 'synthes', 'system', 'unifi', 'unirec', 'user']\n"
     ]
    },
    {
     "name": "stderr",
     "output_type": "stream",
     "text": [
      "/Users/Ulyasha/opt/anaconda3/lib/python3.9/site-packages/sklearn/utils/deprecation.py:87: FutureWarning: Function get_feature_names is deprecated; get_feature_names is deprecated in 1.0 and will be removed in 1.2. Please use get_feature_names_out instead.\n",
      "  warnings.warn(msg, category=FutureWarning)\n"
     ]
    }
   ],
   "source": [
    "\n",
    "print(vectorizer.get_feature_names())"
   ]
  },
  {
   "cell_type": "code",
   "execution_count": 39,
   "id": "1e97dde9-1e61-4e76-a902-8c648db670cf",
   "metadata": {},
   "outputs": [
    {
     "name": "stdout",
     "output_type": "stream",
     "text": [
      "{'recal': 47, 'rank': 46, 'critic': 9, 'step': 53, 'person': 41, 'news': 36, 'recommend': 48, 'exist': 18, 'system': 55, 'conduct': 7, 'separ': 51, 'differ': 13, 'model': 34, 'maintain': 31, 'multipl': 35, 'lead': 30, 'high': 24, 'comput': 6, 'cost': 8, 'pose': 42, 'great': 22, 'challeng': 4, 'meet': 32, 'onlin': 38, 'latenc': 29, 'requir': 49, 'order': 39, 'handl': 23, 'problem': 43, 'paper': 40, 'propos': 44, 'unirec': 57, 'unifi': 56, 'method': 33, 'infer': 27, 'user': 58, 'embed': 16, 'histor': 25, 'click': 5, 'behavior': 2, 'encod': 17, 'deriv': 12, 'obtain': 37, 'attent': 0, 'queri': 45, 'select': 50, 'set': 52, 'basi': 1, 'general': 21, 'interest': 28, 'synthes': 54, 'extens': 20, 'experi': 19, 'benchmark': 3, 'dataset': 10, 'demonstr': 11, 'improv': 26, 'effici': 15, 'effect': 14}\n"
     ]
    }
   ],
   "source": [
    "print(vectorizer.vocabulary_)"
   ]
  },
  {
   "cell_type": "code",
   "execution_count": 40,
   "id": "8fd4b5fd-7249-4298-ba91-d7f89330a113",
   "metadata": {},
   "outputs": [
    {
     "name": "stdout",
     "output_type": "stream",
     "text": [
      "[[1 1 1 1 1 1 1 1 1 1 1 1 1 2 1 1 5 2 1 1 1 1 1 1 1 1 1 1 1 1 1 1 1 3 3 1\n",
      "  7 1 1 1 1 2 1 1 1 1 6 6 5 1 1 1 1 1 1 2 1 1 8]]\n"
     ]
    }
   ],
   "source": [
    "\n",
    "# Print the numerical feature vector\n",
    "print(bag.toarray())"
   ]
  },
  {
   "cell_type": "code",
   "execution_count": 41,
   "id": "391d9553-7d0c-4b49-8b78-ffcf3ee7d52f",
   "metadata": {},
   "outputs": [
    {
     "data": {
      "text/plain": [
       "['util review learn user item represent use recommend system exist method usual merg review user item long document differ review sentenc word usual differ inform model user item paper propos hierarch user item represent model threetier attent learn user item represent review recommend model contain major compon sentenc encod learn sentenc represent word review encod learn review represent sentenc useritem encod learn useritem represent review addit incorpor threetier attent network model select import word sentenc review combin user item represent learn review user item embed base final represent captur latent factor individu user item extens experi benchmark dataset valid effect approach']"
      ]
     },
     "execution_count": 41,
     "metadata": {},
     "output_type": "execute_result"
    }
   ],
   "source": [
    "df_train_chuhan_NLP_abst2 = [df_train_chuhan_NLP.iloc[1,1]]\n",
    "df_train_chuhan_NLP_abst2"
   ]
  },
  {
   "cell_type": "code",
   "execution_count": 42,
   "id": "7f14500d-1089-4b1e-b14b-00a0f0f48bf5",
   "metadata": {},
   "outputs": [
    {
     "name": "stdout",
     "output_type": "stream",
     "text": [
      "[[2 0 0 1 0 0 0 0 0 0 1 0 0 2 1 0 1 3 1 1 1 0 0 0 0 0 0 0 0 0 0 0 0 1 4 0\n",
      "  0 0 0 0 1 0 0 0 1 0 0 0 2 0 1 0 0 0 0 1 0 0 8]]\n"
     ]
    }
   ],
   "source": [
    "testbag = vectorizer.transform(df_train_chuhan_NLP_abst2)\n",
    "print(testbag.toarray())\n",
    "#print(testbag)"
   ]
  },
  {
   "cell_type": "code",
   "execution_count": 43,
   "id": "1fa43984-1643-44cc-a936-d6fc0175c312",
   "metadata": {},
   "outputs": [
    {
     "name": "stdout",
     "output_type": "stream",
     "text": [
      "0.3050847457627119\n"
     ]
    }
   ],
   "source": [
    "score = testbag.count_nonzero()/ bag.count_nonzero()\n",
    "print(score)"
   ]
  },
  {
   "cell_type": "code",
   "execution_count": 44,
   "id": "4d60e6e3-8e60-4cf4-832f-94f1e10a9ac9",
   "metadata": {},
   "outputs": [
    {
     "name": "stdout",
     "output_type": "stream",
     "text": [
      "['bird stone unifi model learn recal rank news recommend', 'hierarch user item represent threetier attent recommend', 'neural metaphor detect cnnlstm model', 'thungn semeval2018 task captur discrimin attribut mlpcnn model', 'teacher pretrain languag model distil multipl teacher', 'thungn semeval2018 task residu cnnlstm network attent english emoji predict', 'neural news recommend multihead selfattent', 'noisytun littl nois help finetun pretrain languag model better', 'review meet graph enhanc user item represent recommend hierarch attent graph neural network', 'detect tweet mention drug advers drug reaction hierarch tweet represent multihead selfattent', 'neural news recommend topicawar news represent', 'ptum pretrain user model unlabel user behavior selfsupervis', 'neural news recommend heterogen user behavior', 'recal rank critic step person news recommend exist news recommend system conduct person news recal rank separ differ model maintain multipl model lead high comput cost pose great challeng meet onlin latenc requir news recommend system order handl problem paper propos unirec unifi method recal rank news recommend method infer user embed rank histor news click behavior user user encod model deriv user embed recal obtain user embed rank attent queri select set basi user embed encod differ general user interest synthes user embed recal extens experi benchmark dataset demonstr method improv effici effect recal rank news recommend', 'util review learn user item represent use recommend system exist method usual merg review user item long document differ review sentenc word usual differ inform model user item paper propos hierarch user item represent model threetier attent learn user item represent review recommend model contain major compon sentenc encod learn sentenc represent word review encod learn review represent sentenc useritem encod learn useritem represent review addit incorpor threetier attent network model select import word sentenc review combin user item represent learn review user item embed base final represent captur latent factor individu user item extens experi benchmark dataset valid effect approach', 'metaphor figur languag wide daili life literatur import task detect metaphor evok text metaphor share task aim extract metaphor plain text word level propos use cnnlstm model task model combin cnn lstm layer util local longrang contextu inform identifi metaphor inform addit compar perform softmax classifi condit random field crf sequenti label task incorpor addit featur speech tag word cluster improv perform model best model achiev 6506 fscore test subtask 6715 verb test subtask', 'exist semant model capabl identifi semant similar word hard model discrimin word similar word aim semeval2018 task predict word discrimin attribut concept task appli multilay perceptron mlpconvolut neural network cnn model identifi attribut discrimin cnns extract lowlevel featur input mlp take flatten cnn map input predict label evalu fscore test set 0629 rank 15th indic need improv behaviour experi provid use inform help improv collect understand novel task', 'pretrain languag model plms achiev great success nlp huge model size hinder applic practic system knowledg distil popular techniqu compress plms learn small student model larg teacher plm knowledg learn singl teacher limit bias result lowqual student model paper propos multiteach knowledg distil framework name mtbert pretrain languag model compress train highqual student model multipl teacher plms mtbert design multiteach cofinetun method joint finetun multipl teacher plms downstream task share pool predict layer align output space better collabor teach addit propos multiteach hidden loss multiteach distil loss transfer use knowledg hidden state soft label multipl teacher plms student model experi benchmark dataset valid effect mtbert compress plms', 'emoji wide social medium social network user post messag import studi relationship messag emoji semeval2018 task interest challeng task propos predict emoji evok textbas tweet propos residu cnnlstm attent rcla model task model combin cnn lstm layer captur local longrang contextu inform tweet represent addit attent mechan select import compon residu connect appli cnn layer facilit train neural network incorpor addit featur tag sentiment featur extract lexicon model achiev 3025 macroaverag fscore subtask emoji predict english rank 7th particip', 'news recommend help user interest news allevi inform overload precis model news user critic news recommend captur context word news import learn news user represent paper propos neural news recommend approach multihead selfattent nrms core approach news encod user encod news encod use multihead selfattent learn news represent news titl model interact word user encod learn represent user brows news use multihead selfattent captur related news appli addit attent learn inform news user represent select import word news experi realworld dataset valid effect effici approach', 'effect finetun pretrain languag model plms critic success downstream task plms risk overfit pretrain task data usual gap target downstream task gap difficult exist plm finetun method overcom lead suboptim perform paper propos simpl effect method name noisytun help better finetun plms downstream task ad nois paramet plms finetun specif propos matrixwis perturb method add differ uniform nois differ paramet matrix base standard deviat way vari characterist differ type paramet plms consid extens experi glue english benchmark xtreme multilingu benchmark noisytun consist empow finetun differ plms differ downstream task', 'user item represent learn critic recommend exist recommend method learn represent user item base rate review userus itemitem related usual consid method insuffici paper propos neural recommend approach util use inform review content useritem graph review graph differ characterist propos use multiview learn framework incorpor differ view review contentview propos use hierarch model learn sentenc represent word learn review represent sentenc final learn useritem represent review addit propos incorpor threelevel attent network view select import word sentenc review learn inform user item represent graphview propos hierarch graph neural network joint model useritem userus itemitem related captur secondord interact user item useritem graph addit appli attent mechan model import interact learn inform user item represent extens experi benchmark dataset valid effect approach', 'paper describ share task social medium mine health applic smm4h workshop aim detect tweet mention drug name advers drug reaction propos neural approach hierarch tweet represent multihead selfattent htrmsa task achiev place share task smm4h fscore 9183 5220 respect', 'news recommend help user interest news allevi inform overload topic inform news critic learn accur news user represent news recommend consid exist news recommend method paper propos neural news recommend approach topicawar news represent core approach topicawar news encod user encod news encod learn represent news titl cnn network appli attent network select import word addit propos learn topicawar news represent joint train news encod auxiliari topic classif task user encod learn represent user brows news use attent network select inform news user represent learn extens experi realworld dataset valid effect approach', 'user model critic person web servic exist method model user base behavior label data target task method exploit use inform unlabel user behavior data perform optim label data scarc motiv pretrain languag model pretrain largescal unlabel corpus empow downstream task paper propos pretrain user model largescal unlabel user behavior data propos selfsupervis task user model pretrain mask behavior predict model related histor behavior second behavior predict model related past futur behavior pretrain user model finetun downstream task learn taskspecif user represent experiment result realworld dataset valid effect propos user model pretrain method', 'news recommend import onlin news platform help user interest news allevi inform overload exist news recommend method usual reli news click histori model user method suffer data sparsiti problem news click behavior user onlin news platform usual limit fortun kind user behavior webpag brows search queri provid use clue user news read paper propos neural news recommend approach exploit heterogen user behavior approach contain major modul news represent user represent news represent modul learn represent news titl cnn network appli attent network select import word user represent modul propos attent multiview learn framework learn unifi represent user heterogen behavior search queri click news brows webpag addit use word recordlevel attent select inform word behavior record experi realworld dataset valid effect approach']\n"
     ]
    }
   ],
   "source": [
    "# Make a list with all abstracts and titles\n",
    "df_train_chuhan_NLP_abstracts = df_train_chuhan_NLP.iloc[:,1].tolist()\n",
    "df_train_chuhan_NLP_titles = df_train_chuhan_NLP.iloc[:,0].tolist()\n",
    "df_train_chuhan_NLP_all = df_train_chuhan_NLP_titles + df_train_chuhan_NLP_abstracts\n",
    "\n",
    "print(df_train_chuhan_NLP_all)"
   ]
  },
  {
   "cell_type": "code",
   "execution_count": null,
   "id": "bfccb967-bccf-49d5-a82e-f3f5113c3c86",
   "metadata": {},
   "outputs": [],
   "source": []
  },
  {
   "cell_type": "code",
   "execution_count": 45,
   "id": "e4b61e45-40c0-477a-bb35-d054d1da7e17",
   "metadata": {},
   "outputs": [],
   "source": [
    "vectorizer_all = CountVectorizer(input='content')\n",
    "\n",
    "# our sample set is df_train_chuhan_NLP_abst1\n",
    "# fit the bag-of-words model\n",
    "\n",
    "bag = vectorizer_all.fit_transform(df_train_chuhan_NLP_all)"
   ]
  },
  {
   "cell_type": "code",
   "execution_count": 46,
   "id": "3c798c43-637e-4b85-aad8-015265381d67",
   "metadata": {},
   "outputs": [
    {
     "data": {
      "text/plain": [
       "'bird stone unifi model learn recal rank news recommendrecal rank critic step person news recommend exist news recommend system conduct person news recal rank separ differ model maintain multipl model lead high comput cost pose great challeng meet onlin latenc requir news recommend system order handl problem paper propos unirec unifi method recal rank news recommend method infer user embed rank histor news click behavior user user encod model deriv user embed recal obtain user embed rank attent queri select set basi user embed encod differ general user interest synthes user embed recal extens experi benchmark dataset demonstr method improv effici effect recal rank news recommend'"
      ]
     },
     "execution_count": 46,
     "metadata": {},
     "output_type": "execute_result"
    }
   ],
   "source": [
    "test_Same_author = df_train_chuhan_NLP_titles[0] + df_train_chuhan_NLP_abstracts[0]\n",
    "\n",
    "test_Same_author"
   ]
  },
  {
   "cell_type": "code",
   "execution_count": 47,
   "id": "e2a1283f-73a0-4688-bde5-17578e12bcdd",
   "metadata": {},
   "outputs": [],
   "source": [
    "bag_test_Same_author = vectorizer_all.transform([test_Same_author])"
   ]
  },
  {
   "cell_type": "code",
   "execution_count": 48,
   "id": "72dd8387-0ff4-4143-af58-5a81135b0b51",
   "metadata": {},
   "outputs": [
    {
     "name": "stdout",
     "output_type": "stream",
     "text": [
      "0.07848101265822785\n"
     ]
    }
   ],
   "source": [
    "score = bag_test_Same_author.count_nonzero()/ bag.count_nonzero()\n",
    "print(score)"
   ]
  },
  {
   "cell_type": "code",
   "execution_count": 49,
   "id": "56ae441e-9461-499c-9599-6786a61cda69",
   "metadata": {},
   "outputs": [
    {
     "name": "stdout",
     "output_type": "stream",
     "text": [
      "['sigmorphon 2016 share taskmorpholog reinflect', '2016 sigmorphon share task devot problem morpholog reinflect introduc morpholog dataset languag divers typolog characterist share task drew submiss team repres institut reflect varieti approach address supervis learn reinflect simplest task inflect generat lemma best averag 9556 exactmatch accuraci languag rang maltes 8899 hungarian 9930 relat larg train dataset provid recurr neural network architectur consist perform bestin fact signific margin neural nonneur approach best neural approach averag task languag outperform best nonneur 1376 absolut individu task languag gap accuraci exceed overal result strong state art serv encourag futur share task explor morpholog analysi generat vari degre supervis']\n"
     ]
    }
   ],
   "source": [
    "df_train_ryan = df_train[df_train['authorName']=='Ryan Cotterell']\n",
    "df_train_ryan_NLP = df_train_ryan[['title', 'abstract']]\n",
    "ryan_sent1 = df_train_ryan_NLP.iloc[6,:].tolist()\n",
    "print(ryan_sent1)"
   ]
  },
  {
   "cell_type": "code",
   "execution_count": 50,
   "id": "fd5817ea-1639-42fd-9eac-66fe4a1ef466",
   "metadata": {},
   "outputs": [
    {
     "name": "stdout",
     "output_type": "stream",
     "text": [
      "0.02911392405063291\n"
     ]
    }
   ],
   "source": [
    "bag_ryan = vectorizer_all.transform(ryan_sent1)\n",
    "score2 = bag_ryan.count_nonzero()/ bag.count_nonzero()\n",
    "print(score2)"
   ]
  },
  {
   "cell_type": "code",
   "execution_count": 25,
   "id": "071443e3-20b4-4845-aba4-38eddfa50f60",
   "metadata": {},
   "outputs": [
    {
     "data": {
      "text/plain": [
       "44"
      ]
     },
     "execution_count": 25,
     "metadata": {},
     "output_type": "execute_result"
    }
   ],
   "source": [
    "bag_ryan.count_nonzero()"
   ]
  },
  {
   "cell_type": "code",
   "execution_count": null,
   "id": "7ff60777-8e8e-4851-af09-12dff32f9155",
   "metadata": {},
   "outputs": [],
   "source": []
  },
  {
   "cell_type": "code",
   "execution_count": null,
   "id": "3d4312db-7ecb-4ef7-8a75-8618065c28e5",
   "metadata": {},
   "outputs": [],
   "source": []
  }
 ],
 "metadata": {
  "kernelspec": {
   "display_name": "Python 3 (ipykernel)",
   "language": "python",
   "name": "python3"
  },
  "language_info": {
   "codemirror_mode": {
    "name": "ipython",
    "version": 3
   },
   "file_extension": ".py",
   "mimetype": "text/x-python",
   "name": "python",
   "nbconvert_exporter": "python",
   "pygments_lexer": "ipython3",
   "version": "3.9.12"
  }
 },
 "nbformat": 4,
 "nbformat_minor": 5
}
