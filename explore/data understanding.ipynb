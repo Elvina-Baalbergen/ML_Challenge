{
 "cells": [
  {
   "cell_type": "markdown",
   "metadata": {},
   "source": [
    "# Data Undestanding"
   ]
  },
  {
   "cell_type": "markdown",
   "metadata": {},
   "source": [
    "### Getting the data"
   ]
  },
  {
   "cell_type": "code",
   "execution_count": 1,
   "metadata": {},
   "outputs": [],
   "source": [
    "import numpy as np\n",
    "import pandas as pd\n",
    "import json"
   ]
  },
  {
   "cell_type": "code",
   "execution_count": 2,
   "metadata": {},
   "outputs": [
    {
     "name": "stdout",
     "output_type": "stream",
     "text": [
      "                                    paperId  \\\n",
      "0  0b341b6938308a6d5f47edf490f6e46eae3835fa   \n",
      "1  c682727ee058aadbe9dbf838dcb036322818f588   \n",
      "2  0f9b5b32229a7245e43754430c0c88f8e7f0d8af   \n",
      "\n",
      "                                               title   authorId  \\\n",
      "0  Detecting linguistic idiosyncratic interests i...    3188285   \n",
      "1  Bigrams and BiLSTMs Two Neural Networks for Se...    2782720   \n",
      "2  In Factuality: Efficient Integration of Releva...  144748442   \n",
      "\n",
      "          authorName                                           abstract  year  \\\n",
      "0  Masoud Rouhizadeh  Children with autism spectrum disorder often e...  2014   \n",
      "1       Yuri Bizzoni  We present and compare two alternative deep ne...  2018   \n",
      "2      Peter Vickers  Visual Question Answering (VQA) methods aim at...  2021   \n",
      "\n",
      "                venue  \n",
      "0         CLPsych@ACL  \n",
      "1  Fig-Lang@NAACL-HLT  \n",
      "2                 ACL  \n"
     ]
    }
   ],
   "source": [
    "df_train = pd.read_json(\"../data/raw/train.json\")\n",
    "print(df_train.head(3))"
   ]
  },
  {
   "cell_type": "markdown",
   "metadata": {},
   "source": [
    "### Range of years"
   ]
  },
  {
   "cell_type": "code",
   "execution_count": 3,
   "metadata": {},
   "outputs": [
    {
     "data": {
      "text/html": [
       "<div>\n",
       "<style scoped>\n",
       "    .dataframe tbody tr th:only-of-type {\n",
       "        vertical-align: middle;\n",
       "    }\n",
       "\n",
       "    .dataframe tbody tr th {\n",
       "        vertical-align: top;\n",
       "    }\n",
       "\n",
       "    .dataframe thead th {\n",
       "        text-align: right;\n",
       "    }\n",
       "</style>\n",
       "<table border=\"1\" class=\"dataframe\">\n",
       "  <thead>\n",
       "    <tr style=\"text-align: right;\">\n",
       "      <th></th>\n",
       "      <th>authorId</th>\n",
       "      <th>year</th>\n",
       "    </tr>\n",
       "  </thead>\n",
       "  <tbody>\n",
       "    <tr>\n",
       "      <th>count</th>\n",
       "      <td>1.212900e+04</td>\n",
       "      <td>12129.000000</td>\n",
       "    </tr>\n",
       "    <tr>\n",
       "      <th>mean</th>\n",
       "      <td>2.932603e+08</td>\n",
       "      <td>2016.246599</td>\n",
       "    </tr>\n",
       "    <tr>\n",
       "      <th>std</th>\n",
       "      <td>6.429221e+08</td>\n",
       "      <td>6.947346</td>\n",
       "    </tr>\n",
       "    <tr>\n",
       "      <th>min</th>\n",
       "      <td>1.678591e+06</td>\n",
       "      <td>1979.000000</td>\n",
       "    </tr>\n",
       "    <tr>\n",
       "      <th>25%</th>\n",
       "      <td>2.782720e+06</td>\n",
       "      <td>2016.000000</td>\n",
       "    </tr>\n",
       "    <tr>\n",
       "      <th>50%</th>\n",
       "      <td>3.450117e+07</td>\n",
       "      <td>2018.000000</td>\n",
       "    </tr>\n",
       "    <tr>\n",
       "      <th>75%</th>\n",
       "      <td>1.441068e+08</td>\n",
       "      <td>2020.000000</td>\n",
       "    </tr>\n",
       "    <tr>\n",
       "      <th>max</th>\n",
       "      <td>2.183631e+09</td>\n",
       "      <td>2022.000000</td>\n",
       "    </tr>\n",
       "  </tbody>\n",
       "</table>\n",
       "</div>"
      ],
      "text/plain": [
       "           authorId          year\n",
       "count  1.212900e+04  12129.000000\n",
       "mean   2.932603e+08   2016.246599\n",
       "std    6.429221e+08      6.947346\n",
       "min    1.678591e+06   1979.000000\n",
       "25%    2.782720e+06   2016.000000\n",
       "50%    3.450117e+07   2018.000000\n",
       "75%    1.441068e+08   2020.000000\n",
       "max    2.183631e+09   2022.000000"
      ]
     },
     "execution_count": 3,
     "metadata": {},
     "output_type": "execute_result"
    }
   ],
   "source": [
    "df_train.describe()"
   ]
  },
  {
   "cell_type": "code",
   "execution_count": 9,
   "metadata": {},
   "outputs": [
    {
     "name": "stdout",
     "output_type": "stream",
     "text": [
      "242\n"
     ]
    }
   ],
   "source": [
    "# missing empty values in venue\n",
    "x = df_train[df_train == ''].count()\n",
    "print(x.venue)"
   ]
  },
  {
   "cell_type": "code",
   "execution_count": 13,
   "metadata": {},
   "outputs": [
    {
     "name": "stdout",
     "output_type": "stream",
     "text": [
      "venue\n",
      "                                                                                                3\n",
      "*SEM                                                                                            1\n",
      "*SEM@NAACL-HLT                                                                                  1\n",
      "*SEMEVAL                                                                                        5\n",
      "2015 7th International Conference on Information Technology in Medicine and Education (ITME)    1\n",
      "                                                                                               ..\n",
      "WNUT                                                                                            2\n",
      "WOAH                                                                                            2\n",
      "WSSANLP@COLING                                                                                  1\n",
      "WaC@EACL                                                                                        1\n",
      "bioRxiv                                                                                         1\n",
      "Length: 362, dtype: int64\n"
     ]
    }
   ],
   "source": [
    "#grouping by authors and empty venues\n",
    "a = df_train.groupby(['authorName', 'venue']).size().groupby(level=1).max()\n",
    "print(a)"
   ]
  },
  {
   "cell_type": "code",
   "execution_count": 26,
   "metadata": {},
   "outputs": [
    {
     "name": "stdout",
     "output_type": "stream",
     "text": [
      "venue     year\n",
      "EMNLP     2019    495\n",
      "          2021    474\n",
      "ACL       2020    398\n",
      "EMNLP     2020    382\n",
      "ACL       2019    377\n",
      "          2021    313\n",
      "EMNLP     2018    278\n",
      "COLING    2020    243\n",
      "ACL       2018    234\n",
      "NAACL     2021    226\n",
      "          2019    223\n",
      "          2018    211\n",
      "ACL       2016    209\n",
      "FINDINGS  2020    186\n",
      "EMNLP     2017    180\n",
      "ACL       2017    175\n",
      "FINDINGS  2021    170\n",
      "ACL       2015    159\n",
      "          2014    155\n",
      "EMNLP     2015    152\n",
      "dtype: int64\n"
     ]
    }
   ],
   "source": [
    "uniq = df_train.nunique()\n",
    "freq = df_train[[\"venue\",\"year\"]].value_counts()\n",
    "\n",
    "print(freq.head(20))"
   ]
  },
  {
   "cell_type": "code",
   "execution_count": 7,
   "metadata": {},
   "outputs": [],
   "source": [
    "import pandas as pd\n",
    "df_train = pd.read_pickle(\"../data/processed/clean_df.pkl\")"
   ]
  },
  {
   "cell_type": "code",
   "execution_count": 9,
   "metadata": {},
   "outputs": [
    {
     "data": {
      "text/plain": [
       "'detect linguist idiosyncrat interest autism distribut semant model'"
      ]
     },
     "execution_count": 9,
     "metadata": {},
     "output_type": "execute_result"
    }
   ],
   "source": [
    "df_train['title'][0]"
   ]
  },
  {
   "cell_type": "code",
   "execution_count": 8,
   "metadata": {},
   "outputs": [
    {
     "data": {
      "text/plain": [
       "'child autism spectrum disord exhibit idiosyncrat pattern behavior interest paper focus measur presenc idiosyncrat interest linguist level child autism distribut semant model model semant space children narrat calcul pairwis word overlap compar overlap diagnost group word child typic develop tend child typic develop word child autism overlap child typic develop child autism find suggest child autism veer away topic target narrat idiosyncrat semant direct potenti defin individu topic'"
      ]
     },
     "execution_count": 8,
     "metadata": {},
     "output_type": "execute_result"
    }
   ],
   "source": [
    "df_train['abstract'][0]"
   ]
  }
 ],
 "metadata": {
  "kernelspec": {
   "display_name": "Python 3.9.6 64-bit",
   "language": "python",
   "name": "python3"
  },
  "language_info": {
   "codemirror_mode": {
    "name": "ipython",
    "version": 3
   },
   "file_extension": ".py",
   "mimetype": "text/x-python",
   "name": "python",
   "nbconvert_exporter": "python",
   "pygments_lexer": "ipython3",
   "version": "3.9.6"
  },
  "orig_nbformat": 4,
  "vscode": {
   "interpreter": {
    "hash": "b27fedf4bc35f9aad9c2542d0deb6e37f774d7c028b471ec4ea6bd7d621b37d8"
   }
  }
 },
 "nbformat": 4,
 "nbformat_minor": 2
}
