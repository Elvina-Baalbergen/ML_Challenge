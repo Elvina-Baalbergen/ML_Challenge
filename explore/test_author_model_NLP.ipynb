{
 "cells": [
  {
   "cell_type": "code",
   "execution_count": 3,
   "metadata": {},
   "outputs": [],
   "source": [
    "import numpy as np\n",
    "import pandas as pd\n",
    "import json"
   ]
  },
  {
   "cell_type": "code",
   "execution_count": 4,
   "metadata": {},
   "outputs": [
    {
     "name": "stdout",
     "output_type": "stream",
     "text": [
      "                                    paperId  \\\n",
      "0  0b341b6938308a6d5f47edf490f6e46eae3835fa   \n",
      "1  c682727ee058aadbe9dbf838dcb036322818f588   \n",
      "2  0f9b5b32229a7245e43754430c0c88f8e7f0d8af   \n",
      "\n",
      "                                               title   authorId  \\\n",
      "0  Detecting linguistic idiosyncratic interests i...    3188285   \n",
      "1  Bigrams and BiLSTMs Two Neural Networks for Se...    2782720   \n",
      "2  In Factuality: Efficient Integration of Releva...  144748442   \n",
      "\n",
      "          authorName                                           abstract  year  \\\n",
      "0  Masoud Rouhizadeh  Children with autism spectrum disorder often e...  2014   \n",
      "1       Yuri Bizzoni  We present and compare two alternative deep ne...  2018   \n",
      "2      Peter Vickers  Visual Question Answering (VQA) methods aim at...  2021   \n",
      "\n",
      "                venue  \n",
      "0         CLPsych@ACL  \n",
      "1  Fig-Lang@NAACL-HLT  \n",
      "2                 ACL  \n"
     ]
    }
   ],
   "source": [
    "df_train = pd.read_json(\"../data/raw/train.json\")\n",
    "print(df_train.head(3))"
   ]
  },
  {
   "cell_type": "code",
   "execution_count": 5,
   "metadata": {},
   "outputs": [
    {
     "name": "stdout",
     "output_type": "stream",
     "text": [
      "            authorName   0\n",
      "835          Chuhan Wu  13\n",
      "3926    Ryan Cotterell  13\n",
      "1889        Ivan Vulic  13\n",
      "3789     Ramit Sawhney  12\n",
      "3991        S. Malmasi  12\n",
      "...                ...  ..\n",
      "1535    Gonzalo Méndez   1\n",
      "3742    R. Rajalakshmi   1\n",
      "1534  Gonzalo Iglesias   1\n",
      "3744       R. SarathP.   1\n",
      "2755         M. Becker   1\n",
      "\n",
      "[5511 rows x 2 columns]\n"
     ]
    }
   ],
   "source": [
    "#grouping by authors\n",
    "a = df_train.groupby(['authorName']).size().reset_index().sort_values(0,ascending=False)\n",
    "print(a)"
   ]
  },
  {
   "cell_type": "markdown",
   "metadata": {},
   "source": [
    "Chuhan wu is most common, make a test model for her"
   ]
  },
  {
   "cell_type": "code",
   "execution_count": 6,
   "metadata": {},
   "outputs": [],
   "source": [
    "df_train_chuhan = df_train[df_train['authorName']=='Chuhan Wu'] "
   ]
  },
  {
   "cell_type": "code",
   "execution_count": 7,
   "metadata": {},
   "outputs": [
    {
     "data": {
      "text/html": [
       "<div>\n",
       "<style scoped>\n",
       "    .dataframe tbody tr th:only-of-type {\n",
       "        vertical-align: middle;\n",
       "    }\n",
       "\n",
       "    .dataframe tbody tr th {\n",
       "        vertical-align: top;\n",
       "    }\n",
       "\n",
       "    .dataframe thead th {\n",
       "        text-align: right;\n",
       "    }\n",
       "</style>\n",
       "<table border=\"1\" class=\"dataframe\">\n",
       "  <thead>\n",
       "    <tr style=\"text-align: right;\">\n",
       "      <th></th>\n",
       "      <th>paperId</th>\n",
       "      <th>title</th>\n",
       "      <th>authorId</th>\n",
       "      <th>authorName</th>\n",
       "      <th>abstract</th>\n",
       "      <th>year</th>\n",
       "      <th>venue</th>\n",
       "    </tr>\n",
       "  </thead>\n",
       "  <tbody>\n",
       "    <tr>\n",
       "      <th>655</th>\n",
       "      <td>6d872a93566ccf29dbd8223a6fe3e86518b5704e</td>\n",
       "      <td>Two Birds with One Stone: Unified Model Learni...</td>\n",
       "      <td>2118839668</td>\n",
       "      <td>Chuhan Wu</td>\n",
       "      <td>Recall and ranking are two critical steps in p...</td>\n",
       "      <td>2021</td>\n",
       "      <td>FINDINGS</td>\n",
       "    </tr>\n",
       "    <tr>\n",
       "      <th>1934</th>\n",
       "      <td>fc77daef4c31a4a160b89288d7ff4c8b266ab52a</td>\n",
       "      <td>Hierarchical User and Item Representation with...</td>\n",
       "      <td>15161448</td>\n",
       "      <td>Chuhan Wu</td>\n",
       "      <td>Utilizing reviews to learn user and item repre...</td>\n",
       "      <td>2019</td>\n",
       "      <td>NAACL</td>\n",
       "    </tr>\n",
       "    <tr>\n",
       "      <th>2815</th>\n",
       "      <td>cea63df33ba77f85913cd8b85b0185337c94d7e3</td>\n",
       "      <td>Neural Metaphor Detecting with CNN-LSTM Model</td>\n",
       "      <td>15161448</td>\n",
       "      <td>Chuhan Wu</td>\n",
       "      <td>Metaphors are figurative languages widely used...</td>\n",
       "      <td>2018</td>\n",
       "      <td>Fig-Lang@NAACL-HLT</td>\n",
       "    </tr>\n",
       "    <tr>\n",
       "      <th>5175</th>\n",
       "      <td>903ac06f23fe5d11cd888da23ca327888446b9db</td>\n",
       "      <td>THU_NGN at SemEval-2018 Task 10: Capturing Dis...</td>\n",
       "      <td>15161448</td>\n",
       "      <td>Chuhan Wu</td>\n",
       "      <td>Existing semantic models are capable of identi...</td>\n",
       "      <td>2018</td>\n",
       "      <td>*SEMEVAL</td>\n",
       "    </tr>\n",
       "    <tr>\n",
       "      <th>5311</th>\n",
       "      <td>066529517e46417825624f1416e200d15a6e3b64</td>\n",
       "      <td>One Teacher is Enough? Pre-trained Language Mo...</td>\n",
       "      <td>2118839668</td>\n",
       "      <td>Chuhan Wu</td>\n",
       "      <td>Pre-trained language models (PLMs) achieve gre...</td>\n",
       "      <td>2021</td>\n",
       "      <td>FINDINGS</td>\n",
       "    </tr>\n",
       "    <tr>\n",
       "      <th>5576</th>\n",
       "      <td>2ca68bf0c68c9af3efabf6432e63fd9d1f3df31b</td>\n",
       "      <td>THU_NGN at SemEval-2018 Task 2: Residual CNN-L...</td>\n",
       "      <td>15161448</td>\n",
       "      <td>Chuhan Wu</td>\n",
       "      <td>Emojis are widely used by social media and soc...</td>\n",
       "      <td>2018</td>\n",
       "      <td>*SEMEVAL</td>\n",
       "    </tr>\n",
       "    <tr>\n",
       "      <th>6271</th>\n",
       "      <td>508b55bed9187adabdd1db7c7bd0bca4b1c221bf</td>\n",
       "      <td>Neural News Recommendation with Multi-Head Sel...</td>\n",
       "      <td>15161448</td>\n",
       "      <td>Chuhan Wu</td>\n",
       "      <td>News recommendation can help users find intere...</td>\n",
       "      <td>2019</td>\n",
       "      <td>EMNLP</td>\n",
       "    </tr>\n",
       "    <tr>\n",
       "      <th>8461</th>\n",
       "      <td>885b701960e880391a2a311ed885c92f79e024cc</td>\n",
       "      <td>NoisyTune: A Little Noise Can Help You Finetun...</td>\n",
       "      <td>15161448</td>\n",
       "      <td>Chuhan Wu</td>\n",
       "      <td>Effectively finetuning pretrained language mod...</td>\n",
       "      <td>2022</td>\n",
       "      <td>ACL</td>\n",
       "    </tr>\n",
       "    <tr>\n",
       "      <th>8721</th>\n",
       "      <td>ef9dad82a86bea2f4ea5893d232000e90b2d3fb9</td>\n",
       "      <td>Reviews Meet Graphs: Enhancing User and Item R...</td>\n",
       "      <td>15161448</td>\n",
       "      <td>Chuhan Wu</td>\n",
       "      <td>User and item representation learning is criti...</td>\n",
       "      <td>2019</td>\n",
       "      <td>EMNLP</td>\n",
       "    </tr>\n",
       "    <tr>\n",
       "      <th>9844</th>\n",
       "      <td>0bc14b4728667e765cb38943834d9959019a35ad</td>\n",
       "      <td>Detecting Tweets Mentioning Drug Name and Adve...</td>\n",
       "      <td>15161448</td>\n",
       "      <td>Chuhan Wu</td>\n",
       "      <td>This paper describes our system for the first ...</td>\n",
       "      <td>2018</td>\n",
       "      <td>EMNLP 2018</td>\n",
       "    </tr>\n",
       "    <tr>\n",
       "      <th>9874</th>\n",
       "      <td>1c68c227249af06a26d95580f2f1a4f8538936bf</td>\n",
       "      <td>Neural News Recommendation with Topic-Aware Ne...</td>\n",
       "      <td>15161448</td>\n",
       "      <td>Chuhan Wu</td>\n",
       "      <td>News recommendation can help users find intere...</td>\n",
       "      <td>2019</td>\n",
       "      <td>ACL</td>\n",
       "    </tr>\n",
       "    <tr>\n",
       "      <th>10304</th>\n",
       "      <td>5ef1cea9e0cdf5b30db6e0ac3f948be6ae0c34fe</td>\n",
       "      <td>PTUM: Pre-training User Model from Unlabeled U...</td>\n",
       "      <td>15161448</td>\n",
       "      <td>Chuhan Wu</td>\n",
       "      <td>User modeling is critical for many personalize...</td>\n",
       "      <td>2020</td>\n",
       "      <td>FINDINGS</td>\n",
       "    </tr>\n",
       "    <tr>\n",
       "      <th>11771</th>\n",
       "      <td>2d361b27af285f866ae696539e3f63cbc53dea0f</td>\n",
       "      <td>Neural News Recommendation with Heterogeneous ...</td>\n",
       "      <td>15161448</td>\n",
       "      <td>Chuhan Wu</td>\n",
       "      <td>News recommendation is important for online ne...</td>\n",
       "      <td>2019</td>\n",
       "      <td>EMNLP</td>\n",
       "    </tr>\n",
       "  </tbody>\n",
       "</table>\n",
       "</div>"
      ],
      "text/plain": [
       "                                        paperId  \\\n",
       "655    6d872a93566ccf29dbd8223a6fe3e86518b5704e   \n",
       "1934   fc77daef4c31a4a160b89288d7ff4c8b266ab52a   \n",
       "2815   cea63df33ba77f85913cd8b85b0185337c94d7e3   \n",
       "5175   903ac06f23fe5d11cd888da23ca327888446b9db   \n",
       "5311   066529517e46417825624f1416e200d15a6e3b64   \n",
       "5576   2ca68bf0c68c9af3efabf6432e63fd9d1f3df31b   \n",
       "6271   508b55bed9187adabdd1db7c7bd0bca4b1c221bf   \n",
       "8461   885b701960e880391a2a311ed885c92f79e024cc   \n",
       "8721   ef9dad82a86bea2f4ea5893d232000e90b2d3fb9   \n",
       "9844   0bc14b4728667e765cb38943834d9959019a35ad   \n",
       "9874   1c68c227249af06a26d95580f2f1a4f8538936bf   \n",
       "10304  5ef1cea9e0cdf5b30db6e0ac3f948be6ae0c34fe   \n",
       "11771  2d361b27af285f866ae696539e3f63cbc53dea0f   \n",
       "\n",
       "                                                   title    authorId  \\\n",
       "655    Two Birds with One Stone: Unified Model Learni...  2118839668   \n",
       "1934   Hierarchical User and Item Representation with...    15161448   \n",
       "2815       Neural Metaphor Detecting with CNN-LSTM Model    15161448   \n",
       "5175   THU_NGN at SemEval-2018 Task 10: Capturing Dis...    15161448   \n",
       "5311   One Teacher is Enough? Pre-trained Language Mo...  2118839668   \n",
       "5576   THU_NGN at SemEval-2018 Task 2: Residual CNN-L...    15161448   \n",
       "6271   Neural News Recommendation with Multi-Head Sel...    15161448   \n",
       "8461   NoisyTune: A Little Noise Can Help You Finetun...    15161448   \n",
       "8721   Reviews Meet Graphs: Enhancing User and Item R...    15161448   \n",
       "9844   Detecting Tweets Mentioning Drug Name and Adve...    15161448   \n",
       "9874   Neural News Recommendation with Topic-Aware Ne...    15161448   \n",
       "10304  PTUM: Pre-training User Model from Unlabeled U...    15161448   \n",
       "11771  Neural News Recommendation with Heterogeneous ...    15161448   \n",
       "\n",
       "      authorName                                           abstract  year  \\\n",
       "655    Chuhan Wu  Recall and ranking are two critical steps in p...  2021   \n",
       "1934   Chuhan Wu  Utilizing reviews to learn user and item repre...  2019   \n",
       "2815   Chuhan Wu  Metaphors are figurative languages widely used...  2018   \n",
       "5175   Chuhan Wu  Existing semantic models are capable of identi...  2018   \n",
       "5311   Chuhan Wu  Pre-trained language models (PLMs) achieve gre...  2021   \n",
       "5576   Chuhan Wu  Emojis are widely used by social media and soc...  2018   \n",
       "6271   Chuhan Wu  News recommendation can help users find intere...  2019   \n",
       "8461   Chuhan Wu  Effectively finetuning pretrained language mod...  2022   \n",
       "8721   Chuhan Wu  User and item representation learning is criti...  2019   \n",
       "9844   Chuhan Wu  This paper describes our system for the first ...  2018   \n",
       "9874   Chuhan Wu  News recommendation can help users find intere...  2019   \n",
       "10304  Chuhan Wu  User modeling is critical for many personalize...  2020   \n",
       "11771  Chuhan Wu  News recommendation is important for online ne...  2019   \n",
       "\n",
       "                    venue  \n",
       "655              FINDINGS  \n",
       "1934                NAACL  \n",
       "2815   Fig-Lang@NAACL-HLT  \n",
       "5175             *SEMEVAL  \n",
       "5311             FINDINGS  \n",
       "5576             *SEMEVAL  \n",
       "6271                EMNLP  \n",
       "8461                  ACL  \n",
       "8721                EMNLP  \n",
       "9844           EMNLP 2018  \n",
       "9874                  ACL  \n",
       "10304            FINDINGS  \n",
       "11771               EMNLP  "
      ]
     },
     "execution_count": 7,
     "metadata": {},
     "output_type": "execute_result"
    }
   ],
   "source": [
    "df_train_chuhan"
   ]
  },
  {
   "cell_type": "code",
   "execution_count": 8,
   "metadata": {},
   "outputs": [
    {
     "data": {
      "text/html": [
       "<div>\n",
       "<style scoped>\n",
       "    .dataframe tbody tr th:only-of-type {\n",
       "        vertical-align: middle;\n",
       "    }\n",
       "\n",
       "    .dataframe tbody tr th {\n",
       "        vertical-align: top;\n",
       "    }\n",
       "\n",
       "    .dataframe thead th {\n",
       "        text-align: right;\n",
       "    }\n",
       "</style>\n",
       "<table border=\"1\" class=\"dataframe\">\n",
       "  <thead>\n",
       "    <tr style=\"text-align: right;\">\n",
       "      <th></th>\n",
       "      <th>title</th>\n",
       "      <th>abstract</th>\n",
       "    </tr>\n",
       "  </thead>\n",
       "  <tbody>\n",
       "    <tr>\n",
       "      <th>655</th>\n",
       "      <td>Two Birds with One Stone: Unified Model Learni...</td>\n",
       "      <td>Recall and ranking are two critical steps in p...</td>\n",
       "    </tr>\n",
       "    <tr>\n",
       "      <th>1934</th>\n",
       "      <td>Hierarchical User and Item Representation with...</td>\n",
       "      <td>Utilizing reviews to learn user and item repre...</td>\n",
       "    </tr>\n",
       "    <tr>\n",
       "      <th>2815</th>\n",
       "      <td>Neural Metaphor Detecting with CNN-LSTM Model</td>\n",
       "      <td>Metaphors are figurative languages widely used...</td>\n",
       "    </tr>\n",
       "    <tr>\n",
       "      <th>5175</th>\n",
       "      <td>THU_NGN at SemEval-2018 Task 10: Capturing Dis...</td>\n",
       "      <td>Existing semantic models are capable of identi...</td>\n",
       "    </tr>\n",
       "    <tr>\n",
       "      <th>5311</th>\n",
       "      <td>One Teacher is Enough? Pre-trained Language Mo...</td>\n",
       "      <td>Pre-trained language models (PLMs) achieve gre...</td>\n",
       "    </tr>\n",
       "    <tr>\n",
       "      <th>5576</th>\n",
       "      <td>THU_NGN at SemEval-2018 Task 2: Residual CNN-L...</td>\n",
       "      <td>Emojis are widely used by social media and soc...</td>\n",
       "    </tr>\n",
       "    <tr>\n",
       "      <th>6271</th>\n",
       "      <td>Neural News Recommendation with Multi-Head Sel...</td>\n",
       "      <td>News recommendation can help users find intere...</td>\n",
       "    </tr>\n",
       "    <tr>\n",
       "      <th>8461</th>\n",
       "      <td>NoisyTune: A Little Noise Can Help You Finetun...</td>\n",
       "      <td>Effectively finetuning pretrained language mod...</td>\n",
       "    </tr>\n",
       "    <tr>\n",
       "      <th>8721</th>\n",
       "      <td>Reviews Meet Graphs: Enhancing User and Item R...</td>\n",
       "      <td>User and item representation learning is criti...</td>\n",
       "    </tr>\n",
       "    <tr>\n",
       "      <th>9844</th>\n",
       "      <td>Detecting Tweets Mentioning Drug Name and Adve...</td>\n",
       "      <td>This paper describes our system for the first ...</td>\n",
       "    </tr>\n",
       "    <tr>\n",
       "      <th>9874</th>\n",
       "      <td>Neural News Recommendation with Topic-Aware Ne...</td>\n",
       "      <td>News recommendation can help users find intere...</td>\n",
       "    </tr>\n",
       "    <tr>\n",
       "      <th>10304</th>\n",
       "      <td>PTUM: Pre-training User Model from Unlabeled U...</td>\n",
       "      <td>User modeling is critical for many personalize...</td>\n",
       "    </tr>\n",
       "    <tr>\n",
       "      <th>11771</th>\n",
       "      <td>Neural News Recommendation with Heterogeneous ...</td>\n",
       "      <td>News recommendation is important for online ne...</td>\n",
       "    </tr>\n",
       "  </tbody>\n",
       "</table>\n",
       "</div>"
      ],
      "text/plain": [
       "                                                   title  \\\n",
       "655    Two Birds with One Stone: Unified Model Learni...   \n",
       "1934   Hierarchical User and Item Representation with...   \n",
       "2815       Neural Metaphor Detecting with CNN-LSTM Model   \n",
       "5175   THU_NGN at SemEval-2018 Task 10: Capturing Dis...   \n",
       "5311   One Teacher is Enough? Pre-trained Language Mo...   \n",
       "5576   THU_NGN at SemEval-2018 Task 2: Residual CNN-L...   \n",
       "6271   Neural News Recommendation with Multi-Head Sel...   \n",
       "8461   NoisyTune: A Little Noise Can Help You Finetun...   \n",
       "8721   Reviews Meet Graphs: Enhancing User and Item R...   \n",
       "9844   Detecting Tweets Mentioning Drug Name and Adve...   \n",
       "9874   Neural News Recommendation with Topic-Aware Ne...   \n",
       "10304  PTUM: Pre-training User Model from Unlabeled U...   \n",
       "11771  Neural News Recommendation with Heterogeneous ...   \n",
       "\n",
       "                                                abstract  \n",
       "655    Recall and ranking are two critical steps in p...  \n",
       "1934   Utilizing reviews to learn user and item repre...  \n",
       "2815   Metaphors are figurative languages widely used...  \n",
       "5175   Existing semantic models are capable of identi...  \n",
       "5311   Pre-trained language models (PLMs) achieve gre...  \n",
       "5576   Emojis are widely used by social media and soc...  \n",
       "6271   News recommendation can help users find intere...  \n",
       "8461   Effectively finetuning pretrained language mod...  \n",
       "8721   User and item representation learning is criti...  \n",
       "9844   This paper describes our system for the first ...  \n",
       "9874   News recommendation can help users find intere...  \n",
       "10304  User modeling is critical for many personalize...  \n",
       "11771  News recommendation is important for online ne...  "
      ]
     },
     "execution_count": 8,
     "metadata": {},
     "output_type": "execute_result"
    }
   ],
   "source": [
    "df_train_chuhan_NLP = df_train_chuhan[['title', 'abstract']]\n",
    "df_train_chuhan_NLP"
   ]
  },
  {
   "cell_type": "code",
   "execution_count": 9,
   "metadata": {},
   "outputs": [
    {
     "data": {
      "text/html": [
       "<div>\n",
       "<style scoped>\n",
       "    .dataframe tbody tr th:only-of-type {\n",
       "        vertical-align: middle;\n",
       "    }\n",
       "\n",
       "    .dataframe tbody tr th {\n",
       "        vertical-align: top;\n",
       "    }\n",
       "\n",
       "    .dataframe thead th {\n",
       "        text-align: right;\n",
       "    }\n",
       "</style>\n",
       "<table border=\"1\" class=\"dataframe\">\n",
       "  <thead>\n",
       "    <tr style=\"text-align: right;\">\n",
       "      <th></th>\n",
       "      <th>year</th>\n",
       "      <th>venue</th>\n",
       "    </tr>\n",
       "  </thead>\n",
       "  <tbody>\n",
       "    <tr>\n",
       "      <th>655</th>\n",
       "      <td>2021</td>\n",
       "      <td>FINDINGS</td>\n",
       "    </tr>\n",
       "    <tr>\n",
       "      <th>1934</th>\n",
       "      <td>2019</td>\n",
       "      <td>NAACL</td>\n",
       "    </tr>\n",
       "    <tr>\n",
       "      <th>2815</th>\n",
       "      <td>2018</td>\n",
       "      <td>Fig-Lang@NAACL-HLT</td>\n",
       "    </tr>\n",
       "    <tr>\n",
       "      <th>5175</th>\n",
       "      <td>2018</td>\n",
       "      <td>*SEMEVAL</td>\n",
       "    </tr>\n",
       "    <tr>\n",
       "      <th>5311</th>\n",
       "      <td>2021</td>\n",
       "      <td>FINDINGS</td>\n",
       "    </tr>\n",
       "    <tr>\n",
       "      <th>5576</th>\n",
       "      <td>2018</td>\n",
       "      <td>*SEMEVAL</td>\n",
       "    </tr>\n",
       "    <tr>\n",
       "      <th>6271</th>\n",
       "      <td>2019</td>\n",
       "      <td>EMNLP</td>\n",
       "    </tr>\n",
       "    <tr>\n",
       "      <th>8461</th>\n",
       "      <td>2022</td>\n",
       "      <td>ACL</td>\n",
       "    </tr>\n",
       "    <tr>\n",
       "      <th>8721</th>\n",
       "      <td>2019</td>\n",
       "      <td>EMNLP</td>\n",
       "    </tr>\n",
       "    <tr>\n",
       "      <th>9844</th>\n",
       "      <td>2018</td>\n",
       "      <td>EMNLP 2018</td>\n",
       "    </tr>\n",
       "    <tr>\n",
       "      <th>9874</th>\n",
       "      <td>2019</td>\n",
       "      <td>ACL</td>\n",
       "    </tr>\n",
       "    <tr>\n",
       "      <th>10304</th>\n",
       "      <td>2020</td>\n",
       "      <td>FINDINGS</td>\n",
       "    </tr>\n",
       "    <tr>\n",
       "      <th>11771</th>\n",
       "      <td>2019</td>\n",
       "      <td>EMNLP</td>\n",
       "    </tr>\n",
       "  </tbody>\n",
       "</table>\n",
       "</div>"
      ],
      "text/plain": [
       "       year               venue\n",
       "655    2021            FINDINGS\n",
       "1934   2019               NAACL\n",
       "2815   2018  Fig-Lang@NAACL-HLT\n",
       "5175   2018            *SEMEVAL\n",
       "5311   2021            FINDINGS\n",
       "5576   2018            *SEMEVAL\n",
       "6271   2019               EMNLP\n",
       "8461   2022                 ACL\n",
       "8721   2019               EMNLP\n",
       "9844   2018          EMNLP 2018\n",
       "9874   2019                 ACL\n",
       "10304  2020            FINDINGS\n",
       "11771  2019               EMNLP"
      ]
     },
     "execution_count": 9,
     "metadata": {},
     "output_type": "execute_result"
    }
   ],
   "source": [
    "df_train_chuhan_place = df_train_chuhan[['year', 'venue']]\n",
    "df_train_chuhan_place"
   ]
  },
  {
   "cell_type": "markdown",
   "metadata": {},
   "source": [
    "## 1 - We use bag-of-words technique on our first model "
   ]
  },
  {
   "cell_type": "code",
   "execution_count": 10,
   "metadata": {},
   "outputs": [
    {
     "data": {
      "text/plain": [
       "['Recall and ranking are two critical steps in personalized news recommendation. Most existing news recommender systems conduct personalized news recall and ranking separately with different models. However, maintaining multiple models leads to high computational cost and poses great challenges to meeting the online latency requirement of news recommender systems. In order to handle this problem, in this paper we propose UniRec, a unified method for recall and ranking in news recommendation. In our method, we first infer user embedding for ranking from the historical news click behaviors of a user using a user encoder model. Then we derive the user embedding for recall from the obtained user embedding for ranking by using it as the attention query to select a set of basis user embeddings which encode different general user interests and synthesize them into a user embedding for recall. The extensive experiments on benchmark dataset demonstrate that our method can improve both efficiency and effectiveness for recall and ranking in news recommendation.']"
      ]
     },
     "execution_count": 10,
     "metadata": {},
     "output_type": "execute_result"
    }
   ],
   "source": [
    "# selected the first abstract\n",
    "df_train_chuhan_NLP_abst1 = [df_train_chuhan_NLP.iloc[0,1]]\n",
    "df_train_chuhan_NLP_abst1"
   ]
  },
  {
   "cell_type": "code",
   "execution_count": 11,
   "metadata": {},
   "outputs": [],
   "source": [
    "from sklearn.feature_extraction.text import CountVectorizer"
   ]
  },
  {
   "cell_type": "code",
   "execution_count": 12,
   "metadata": {},
   "outputs": [],
   "source": [
    "vectorizer = CountVectorizer(input='content')\n",
    "\n",
    "# our sample set is df_train_chuhan_NLP_abst1\n",
    "# fit the bag-of-words model\n",
    "\n",
    "bag = vectorizer.fit_transform(df_train_chuhan_NLP_abst1)"
   ]
  },
  {
   "cell_type": "markdown",
   "metadata": {},
   "source": [
    "#### Get unique words / tokens found in all the documents. The unique words / tokens represents the features"
   ]
  },
  {
   "cell_type": "code",
   "execution_count": 13,
   "metadata": {},
   "outputs": [
    {
     "name": "stdout",
     "output_type": "stream",
     "text": [
      "['and', 'are', 'as', 'attention', 'basis', 'behaviors', 'benchmark', 'both', 'by', 'can', 'challenges', 'click', 'computational', 'conduct', 'cost', 'critical', 'dataset', 'demonstrate', 'derive', 'different', 'effectiveness', 'efficiency', 'embedding', 'embeddings', 'encode', 'encoder', 'existing', 'experiments', 'extensive', 'first', 'for', 'from', 'general', 'great', 'handle', 'high', 'historical', 'however', 'improve', 'in', 'infer', 'interests', 'into', 'it', 'latency', 'leads', 'maintaining', 'meeting', 'method', 'model', 'models', 'most', 'multiple', 'news', 'obtained', 'of', 'on', 'online', 'order', 'our', 'paper', 'personalized', 'poses', 'problem', 'propose', 'query', 'ranking', 'recall', 'recommendation', 'recommender', 'requirement', 'select', 'separately', 'set', 'steps', 'synthesize', 'systems', 'that', 'the', 'them', 'then', 'this', 'to', 'two', 'unified', 'unirec', 'user', 'using', 'we', 'which', 'with']\n"
     ]
    },
    {
     "name": "stderr",
     "output_type": "stream",
     "text": [
      "c:\\Users\\el_4\\AppData\\Local\\Programs\\Python\\Python39\\lib\\site-packages\\sklearn\\utils\\deprecation.py:87: FutureWarning: Function get_feature_names is deprecated; get_feature_names is deprecated in 1.0 and will be removed in 1.2. Please use get_feature_names_out instead.\n",
      "  warnings.warn(msg, category=FutureWarning)\n"
     ]
    }
   ],
   "source": [
    "print(vectorizer.get_feature_names())"
   ]
  },
  {
   "cell_type": "code",
   "execution_count": 14,
   "metadata": {},
   "outputs": [
    {
     "name": "stdout",
     "output_type": "stream",
     "text": [
      "{'recall': 67, 'and': 0, 'ranking': 66, 'are': 1, 'two': 83, 'critical': 15, 'steps': 74, 'in': 39, 'personalized': 61, 'news': 53, 'recommendation': 68, 'most': 51, 'existing': 26, 'recommender': 69, 'systems': 76, 'conduct': 13, 'separately': 72, 'with': 90, 'different': 19, 'models': 50, 'however': 37, 'maintaining': 46, 'multiple': 52, 'leads': 45, 'to': 82, 'high': 35, 'computational': 12, 'cost': 14, 'poses': 62, 'great': 33, 'challenges': 10, 'meeting': 47, 'the': 78, 'online': 57, 'latency': 44, 'requirement': 70, 'of': 55, 'order': 58, 'handle': 34, 'this': 81, 'problem': 63, 'paper': 60, 'we': 88, 'propose': 64, 'unirec': 85, 'unified': 84, 'method': 48, 'for': 30, 'our': 59, 'first': 29, 'infer': 40, 'user': 86, 'embedding': 22, 'from': 31, 'historical': 36, 'click': 11, 'behaviors': 5, 'using': 87, 'encoder': 25, 'model': 49, 'then': 80, 'derive': 18, 'obtained': 54, 'by': 8, 'it': 43, 'as': 2, 'attention': 3, 'query': 65, 'select': 71, 'set': 73, 'basis': 4, 'embeddings': 23, 'which': 89, 'encode': 24, 'general': 32, 'interests': 41, 'synthesize': 75, 'them': 79, 'into': 42, 'extensive': 28, 'experiments': 27, 'on': 56, 'benchmark': 6, 'dataset': 16, 'demonstrate': 17, 'that': 77, 'can': 9, 'improve': 38, 'both': 7, 'efficiency': 21, 'effectiveness': 20}\n"
     ]
    }
   ],
   "source": [
    "# Associate the indices with each unique word\n",
    "\n",
    "print(vectorizer.vocabulary_)"
   ]
  },
  {
   "cell_type": "code",
   "execution_count": 15,
   "metadata": {},
   "outputs": [
    {
     "name": "stdout",
     "output_type": "stream",
     "text": [
      "[[7 1 1 1 1 1 1 1 1 1 1 1 1 1 1 1 1 1 1 2 1 1 4 1 1 1 1 1 1 1 6 2 1 1 1 1\n",
      "  1 1 1 6 1 1 1 1 1 1 1 1 3 1 2 1 1 7 1 3 1 1 1 2 1 2 1 1 1 1 6 6 3 2 1 1\n",
      "  1 1 1 1 2 1 6 1 1 2 4 1 1 1 8 2 3 1 1]]\n"
     ]
    }
   ],
   "source": [
    "# Print the numerical feature vector\n",
    "print(bag.toarray())"
   ]
  },
  {
   "cell_type": "markdown",
   "metadata": {},
   "source": [
    "Now test with the second abstract"
   ]
  },
  {
   "cell_type": "code",
   "execution_count": 16,
   "metadata": {},
   "outputs": [
    {
     "data": {
      "text/plain": [
       "['Utilizing reviews to learn user and item representations is useful for recommender systems. Existing methods usually merge all reviews from the same user or for the same item into a long document. However, different reviews, sentences and even words usually have different informativeness for modeling users and items. In this paper, we propose a hierarchical user and item representation model with three-tier attention to learn user and item representations from reviews for recommendation. Our model contains three major components, i.e., a sentence encoder to learn sentence representations from words, a review encoder to learn review representations from sentences, and a user/item encoder to learn user/item representations from reviews. In addition, we incorporate a three-tier attention network in our model to select important words, sentences and reviews. Besides, we combine the user and item representations learned from the reviews with user and item embeddings based on IDs as the final representations to capture the latent factors of individual users and items. Extensive experiments on four benchmark datasets validate the effectiveness of our approach.']"
      ]
     },
     "execution_count": 16,
     "metadata": {},
     "output_type": "execute_result"
    }
   ],
   "source": [
    "df_train_chuhan_NLP_abst2 = [df_train_chuhan_NLP.iloc[1,1]]\n",
    "df_train_chuhan_NLP_abst2"
   ]
  },
  {
   "cell_type": "code",
   "execution_count": 17,
   "metadata": {},
   "outputs": [
    {
     "name": "stdout",
     "output_type": "stream",
     "text": [
      "[[10  0  1  2  0  0  1  0  0  0  0  0  0  0  0  0  0  0  0  2  1  0  0  1\n",
      "   0  3  1  1  1  0  4  6  0  0  0  0  0  1  0  3  0  0  1  0  0  0  0  0\n",
      "   0  3  0  0  0  0  0  2  2  0  0  3  1  0  0  0  1  0  0  0  1  1  0  1\n",
      "   0  0  0  0  1  0  7  0  0  1  7  0  0  0  8  0  3  0  2]]\n"
     ]
    }
   ],
   "source": [
    "testbag = vectorizer.transform(df_train_chuhan_NLP_abst2)\n",
    "print(testbag.toarray())\n",
    "#print(testbag)"
   ]
  },
  {
   "cell_type": "code",
   "execution_count": 18,
   "metadata": {},
   "outputs": [
    {
     "name": "stdout",
     "output_type": "stream",
     "text": [
      "32\n"
     ]
    }
   ],
   "source": [
    "\n",
    "print(testbag.count_nonzero())"
   ]
  },
  {
   "cell_type": "code",
   "execution_count": 19,
   "metadata": {},
   "outputs": [
    {
     "name": "stdout",
     "output_type": "stream",
     "text": [
      "91\n"
     ]
    }
   ],
   "source": [
    "print(bag.count_nonzero())"
   ]
  },
  {
   "cell_type": "code",
   "execution_count": 20,
   "metadata": {},
   "outputs": [
    {
     "name": "stdout",
     "output_type": "stream",
     "text": [
      "0.3516483516483517\n"
     ]
    }
   ],
   "source": [
    "score = testbag.count_nonzero()/ bag.count_nonzero()\n",
    "print(score)"
   ]
  },
  {
   "cell_type": "markdown",
   "metadata": {},
   "source": [
    "### 2 - Now we use all available texts to build the model"
   ]
  },
  {
   "cell_type": "code",
   "execution_count": null,
   "metadata": {},
   "outputs": [],
   "source": [
    "# Make a list with all abstracts and titles\n",
    "df_train_chuhan_NLP_abstracts = df_train_chuhan_NLP.iloc[:,1].tolist()\n",
    "df_train_chuhan_NLP_titles = df_train_chuhan_NLP.iloc[:,0].tolist()\n",
    "df_train_chuhan_NLP_all = df_train_chuhan_NLP_titles + df_train_chuhan_NLP_abstracts\n",
    "\n",
    "print(df_train_chuhan_NLP_all)"
   ]
  },
  {
   "cell_type": "code",
   "execution_count": 22,
   "metadata": {},
   "outputs": [],
   "source": [
    "vectorizer_all = CountVectorizer(input='content')\n",
    "\n",
    "# our sample set is df_train_chuhan_NLP_abst1\n",
    "# fit the bag-of-words model\n",
    "\n",
    "bag = vectorizer_all.fit_transform(df_train_chuhan_NLP_all)"
   ]
  },
  {
   "cell_type": "code",
   "execution_count": null,
   "metadata": {},
   "outputs": [],
   "source": [
    "print(vectorizer_all.get_feature_names())"
   ]
  },
  {
   "cell_type": "code",
   "execution_count": 27,
   "metadata": {},
   "outputs": [
    {
     "data": {
      "text/plain": [
       "'Two Birds with One Stone: Unified Model Learning for Both Recall and Ranking in News RecommendationRecall and ranking are two critical steps in personalized news recommendation. Most existing news recommender systems conduct personalized news recall and ranking separately with different models. However, maintaining multiple models leads to high computational cost and poses great challenges to meeting the online latency requirement of news recommender systems. In order to handle this problem, in this paper we propose UniRec, a unified method for recall and ranking in news recommendation. In our method, we first infer user embedding for ranking from the historical news click behaviors of a user using a user encoder model. Then we derive the user embedding for recall from the obtained user embedding for ranking by using it as the attention query to select a set of basis user embeddings which encode different general user interests and synthesize them into a user embedding for recall. The extensive experiments on benchmark dataset demonstrate that our method can improve both efficiency and effectiveness for recall and ranking in news recommendation.'"
      ]
     },
     "execution_count": 27,
     "metadata": {},
     "output_type": "execute_result"
    }
   ],
   "source": [
    "test_Same_author = df_train_chuhan_NLP_titles[0] + df_train_chuhan_NLP_abstracts[0]\n",
    "\n",
    "test_Same_author"
   ]
  },
  {
   "cell_type": "code",
   "execution_count": 29,
   "metadata": {},
   "outputs": [],
   "source": [
    "\n",
    "bag_test_Same_author = vectorizer_all.transform([test_Same_author])"
   ]
  },
  {
   "cell_type": "code",
   "execution_count": 30,
   "metadata": {},
   "outputs": [
    {
     "name": "stdout",
     "output_type": "stream",
     "text": [
      "0.07370054305663305\n"
     ]
    }
   ],
   "source": [
    "score = bag_test_Same_author.count_nonzero()/ bag.count_nonzero()\n",
    "print(score)"
   ]
  },
  {
   "cell_type": "markdown",
   "metadata": {},
   "source": [
    "#### testing with another author Ryan Cotterell"
   ]
  },
  {
   "cell_type": "code",
   "execution_count": null,
   "metadata": {},
   "outputs": [],
   "source": [
    "df_train_ryan = df_train[df_train['authorName']=='Ryan Cotterell']\n",
    "df_train_ryan_NLP = df_train_ryan[['title', 'abstract']]\n",
    "ryan_sent1 = df_train_ryan_NLP.iloc[6,:].tolist()\n",
    "print(ryan_sent1)"
   ]
  },
  {
   "cell_type": "code",
   "execution_count": 189,
   "metadata": {},
   "outputs": [
    {
     "name": "stdout",
     "output_type": "stream",
     "text": [
      "0.03413498836307215\n"
     ]
    }
   ],
   "source": [
    "bag_ryan = vectorizer_all.transform(ryan_sent1)\n",
    "score2 = bag_ryan.count_nonzero()/ bag.count_nonzero()\n",
    "print(score2)"
   ]
  },
  {
   "cell_type": "code",
   "execution_count": 191,
   "metadata": {},
   "outputs": [
    {
     "data": {
      "text/plain": [
       "44"
      ]
     },
     "execution_count": 191,
     "metadata": {},
     "output_type": "execute_result"
    }
   ],
   "source": [
    "bag_ryan.count_nonzero()\n"
   ]
  },
  {
   "cell_type": "code",
   "execution_count": null,
   "metadata": {},
   "outputs": [],
   "source": [
    "bag_test_Same_author2 = vectorizer_all.transform(test_Same_author2)\n",
    "score2 = bag_test_Same_author2.count_nonzero()/ bag.count_nonzero()\n",
    "print(score2)"
   ]
  }
 ],
 "metadata": {
  "kernelspec": {
   "display_name": "Python 3.9.6 64-bit",
   "language": "python",
   "name": "python3"
  },
  "language_info": {
   "codemirror_mode": {
    "name": "ipython",
    "version": 3
   },
   "file_extension": ".py",
   "mimetype": "text/x-python",
   "name": "python",
   "nbconvert_exporter": "python",
   "pygments_lexer": "ipython3",
   "version": "3.9.6"
  },
  "orig_nbformat": 4,
  "vscode": {
   "interpreter": {
    "hash": "b27fedf4bc35f9aad9c2542d0deb6e37f774d7c028b471ec4ea6bd7d621b37d8"
   }
  }
 },
 "nbformat": 4,
 "nbformat_minor": 2
}
